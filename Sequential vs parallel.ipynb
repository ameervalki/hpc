{
 "cells": [
  {
   "cell_type": "code",
   "execution_count": null,
   "id": "3e9b4b84-f122-4e3f-8bca-c6e1e9a5d21d",
   "metadata": {},
   "outputs": [],
   "source": [
    "import numpy as np\n",
    "import time\n",
    "import multiprocessing\n",
    "from concurrent.futures import ThreadPoolExecutor\n",
    "\n",
    "def sequential_sum_of_squares(data):\n",
    "    return np.sum(data**2)\n",
    "\n",
    "def parallel_sum_of_squares(data, num_threads):\n",
    "    chunk_size = len(data) // num_threads\n",
    "    chunks = [data[i:i+chunk_size] for i in range(0, len(data), chunk_size)]\n",
    "\n",
    "    with ThreadPoolExecutor(max_workers=num_threads) as executor:\n",
    "        results = list(executor.map(np.sum, map(lambda x: x**2, chunks)))\n",
    "\n",
    "    return np.sum(results)\n",
    "\n",
    "if __name__ == \"__main__\":\n",
    "    # Generate some random data\n",
    "    data_size = 10**7\n",
    "    data = np.random.rand(data_size)\n",
    "\n",
    "    # Sequential computation\n",
    "    start_time = time.time()\n",
    "    result_seq = sequential_sum_of_squares(data)\n",
    "    seq_time = time.time() - start_time\n",
    "\n",
    "    # Parallel computation\n",
    "    num_threads = multiprocessing.cpu_count()  # You can adjust this based on the number of available cores\n",
    "    start_time = time.time()\n",
    "    result_parallel = parallel_sum_of_squares(data, num_threads)\n",
    "    parallel_time = time.time() - start_time\n",
    "\n",
    "    # Display results\n",
    "    print(f\"Sequential result: {result_seq}\")\n",
    "    print(f\"Parallel result: {result_parallel}\")\n",
    "    print(f\"Sequential time: {seq_time:.4f} seconds\")\n",
    "    print(f\"Parallel time: {parallel_time:.4f} seconds\")\n"
   ]
  },
  {
   "cell_type": "code",
   "execution_count": null,
   "id": "f286331f-3bed-4442-a4d6-cb234b3b79aa",
   "metadata": {},
   "outputs": [],
   "source": []
  }
 ],
 "metadata": {
  "kernelspec": {
   "display_name": "Python 3 (ipykernel)",
   "language": "python",
   "name": "python3"
  },
  "language_info": {
   "codemirror_mode": {
    "name": "ipython",
    "version": 3
   },
   "file_extension": ".py",
   "mimetype": "text/x-python",
   "name": "python",
   "nbconvert_exporter": "python",
   "pygments_lexer": "ipython3",
   "version": "3.11.5"
  }
 },
 "nbformat": 4,
 "nbformat_minor": 5
}
