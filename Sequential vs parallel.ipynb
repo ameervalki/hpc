{
  "cells": [
    {
      "cell_type": "code",
      "execution_count": 1,
      "metadata": {
        "colab": {
          "base_uri": "https://localhost:8080/"
        },
        "id": "lIYdn1woOS1n",
        "outputId": "85199a2c-bd43-430e-b00c-e3927efad889"
      },
      "outputs": [
        {
          "output_type": "stream",
          "name": "stdout",
          "text": [
            "Sequential Result: 333333383333335000000\n",
            "Sequential Execution Time: 3.2508866786956787 seconds\n",
            "\n",
            "Parallel Result: 333333383333335000000\n",
            "Parallel Execution Time: 4.327131271362305 seconds\n",
            "2\n"
          ]
        }
      ],
      "source": [
        "import time\n",
        "import numpy as np\n",
        "import os\n",
        "from multiprocessing import Pool\n",
        "\n",
        "def sequential_sum_of_squares(nums):\n",
        "    result = 0\n",
        "    for num in nums:\n",
        "        result += num ** 2\n",
        "    return result\n",
        "\n",
        "def parallel_sum_of_squares(nums, num_processes=4):\n",
        "    # Split the input data for parallel processing\n",
        "    chunk_size = len(nums) // num_processes\n",
        "    chunks = [nums[i:i + chunk_size] for i in range(0, len(nums), chunk_size)]\n",
        "\n",
        "    # Use multiprocessing Pool to parallelize the calculation\n",
        "    with Pool(num_processes) as pool:\n",
        "        results = pool.map(sequential_sum_of_squares, chunks)\n",
        "\n",
        "    # Aggregate the results from different processes\n",
        "    return sum(results)\n",
        "\n",
        "if __name__ == \"__main__\":\n",
        "    # Generate a list of numbers\n",
        "    nums = list(range(1, 10000001))\n",
        "\n",
        "    # Measure execution time for sequential version\n",
        "    start_time = time.time()\n",
        "    sequential_result = sequential_sum_of_squares(nums)\n",
        "    sequential_time = time.time() - start_time\n",
        "\n",
        "    # Measure execution time for parallel version\n",
        "    start_time = time.time()\n",
        "    parallel_result = parallel_sum_of_squares(nums)\n",
        "    parallel_time = time.time() - start_time\n",
        "\n",
        "    # Display results and execution times\n",
        "    print(f\"Sequential Result: {sequential_result}\")\n",
        "    print(f\"Sequential Execution Time: {sequential_time} seconds\")\n",
        "\n",
        "    print(f\"\\nParallel Result: {parallel_result}\")\n",
        "    print(f\"Parallel Execution Time: {parallel_time} seconds\")\n",
        "    print(os.sysconf('SC_NPROCESSORS_ONLN'))\n"
      ]
    }
  ],
  "metadata": {
    "colab": {
      "name": "scratchpad",
      "provenance": []
    },
    "kernelspec": {
      "display_name": "Python 3",
      "name": "python3"
    }
  },
  "nbformat": 4,
  "nbformat_minor": 0
}